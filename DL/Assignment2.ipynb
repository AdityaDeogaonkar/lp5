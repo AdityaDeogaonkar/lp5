{
  "cells": [
    {
      "attachments": {},
      "cell_type": "markdown",
      "metadata": {
        "id": "8CuKj9fYAQt7"
      },
      "source": []
    },
    {
      "cell_type": "code",
      "execution_count": 1,
      "metadata": {
        "colab": {
          "base_uri": "https://localhost:8080/"
        },
        "id": "QoSBppuf-SwN",
        "outputId": "1178b140-b79b-4a8b-fbb7-feeda3f6d085"
      },
      "outputs": [
        {
          "name": "stdout",
          "output_type": "stream",
          "text": [
            "Downloading data from https://storage.googleapis.com/tensorflow/tf-keras-datasets/imdb.npz\n",
            "17464789/17464789 [==============================] - 1s 0us/step\n"
          ]
        }
      ],
      "source": [
        "from keras.datasets import imdb\n",
        "\n",
        "# Load the data, keeping only 10,000 of the most frequently occuring words\n",
        "(train_data, train_labels), (test_data, test_labels) = imdb.load_data(num_words = 10000)"
      ]
    },
    {
      "cell_type": "code",
      "execution_count": 2,
      "metadata": {
        "colab": {
          "base_uri": "https://localhost:8080/"
        },
        "id": "su-hXefI-aM3",
        "outputId": "d399b2c7-f2d3-4f35-845b-ee8dabfb5f99"
      },
      "outputs": [
        {
          "name": "stdout",
          "output_type": "stream",
          "text": [
            "<class 'list'>\n"
          ]
        },
        {
          "data": {
            "text/plain": [
              "9999"
            ]
          },
          "execution_count": 2,
          "metadata": {},
          "output_type": "execute_result"
        }
      ],
      "source": [
        "# Here is a list of maximum indexes in every review --- we search the maximum index in this list of max indexes\n",
        "print(type([max(sequence) for sequence in train_data]))\n",
        "\n",
        "# Find the maximum of all max indexes\n",
        "max([max(sequence) for sequence in train_data])"
      ]
    },
    {
      "cell_type": "code",
      "execution_count": 3,
      "metadata": {
        "colab": {
          "base_uri": "https://localhost:8080/",
          "height": 157
        },
        "id": "-pCMX_uw-mGl",
        "outputId": "deeb862e-0020-401c-af7f-21d907491eb9"
      },
      "outputs": [
        {
          "name": "stdout",
          "output_type": "stream",
          "text": [
            "Downloading data from https://storage.googleapis.com/tensorflow/tf-keras-datasets/imdb_word_index.json\n",
            "1641221/1641221 [==============================] - 1s 0us/step\n"
          ]
        },
        {
          "data": {
            "application/vnd.google.colaboratory.intrinsic+json": {
              "type": "string"
            },
            "text/plain": [
              "\"? this film was just brilliant casting location scenery story direction everyone's really suited the part they played and you could just imagine being there robert ? is an amazing actor and now the same being director ? father came from the same scottish island as myself so i loved the fact there was a real connection with this film the witty remarks throughout the film were great it was just brilliant so much that i bought the film as soon as it was released for ? and would recommend it to everyone to watch and the fly fishing was amazing really cried at the end it was so sad and you know what they say if you cry at a film it must have been good and this definitely was also ? to the two little boy's that played the ? of norman and paul they were just brilliant children are often left out of the ? list i think because the stars that play them all grown up are such a big profile for the whole film but these children are amazing and should be praised for what they have done don't you think the whole story was so lovely because it was true and was someone's life after all that was shared with us all\""
            ]
          },
          "execution_count": 3,
          "metadata": {},
          "output_type": "execute_result"
        }
      ],
      "source": [
        "# step 1: load the dictionary mappings from word to integer index\n",
        "word_index = imdb.get_word_index()\n",
        "\n",
        "# step 2: reverse word index to map integer indexes to their respective words\n",
        "reverse_word_index = dict([(value, key) for (key, value) in word_index.items()])\n",
        "\n",
        "# Step 3: decode the review, mapping integer indices to words\n",
        "#\n",
        "# indices are off by 3 because 0, 1, and 2 are reserverd indices for \"padding\", \"Start of sequence\" and \"unknown\"\n",
        "decoded_review = ' '.join([reverse_word_index.get(i-3, '?') for i in train_data[0]])\n",
        "\n",
        "decoded_review"
      ]
    },
    {
      "cell_type": "code",
      "execution_count": 4,
      "metadata": {
        "id": "m9nzrIlz-toP"
      },
      "outputs": [],
      "source": [
        "import numpy as np\n",
        "\n",
        "def vectorize_sequences(sequences, dimension=10000):\n",
        "    results = np.zeros((len(sequences), dimension))    # Creates an all zero matrix of shape (len(sequences),10K)\n",
        "    for i,sequence in enumerate(sequences):\n",
        "        results[i,sequence] = 1                        # Sets specific indices of results[i] to 1s\n",
        "    return results\n",
        "\n",
        "# Vectorize training Data\n",
        "X_train = vectorize_sequences(train_data)\n",
        "\n",
        "# Vectorize testing Data\n",
        "X_test = vectorize_sequences(test_data)"
      ]
    },
    {
      "cell_type": "code",
      "execution_count": 5,
      "metadata": {
        "colab": {
          "base_uri": "https://localhost:8080/"
        },
        "id": "M-klmb_Y-z_R",
        "outputId": "421bbfb2-419e-4906-8b13-84a37c73b9b5"
      },
      "outputs": [
        {
          "data": {
            "text/plain": [
              "array([0., 1., 1., ..., 0., 0., 0.])"
            ]
          },
          "execution_count": 5,
          "metadata": {},
          "output_type": "execute_result"
        }
      ],
      "source": [
        "X_train[0]"
      ]
    },
    {
      "cell_type": "code",
      "execution_count": 6,
      "metadata": {
        "colab": {
          "base_uri": "https://localhost:8080/"
        },
        "id": "8zR4gdMk-2jh",
        "outputId": "0452a172-1827-4b3c-ca55-ed825b9ec250"
      },
      "outputs": [
        {
          "data": {
            "text/plain": [
              "(25000, 10000)"
            ]
          },
          "execution_count": 6,
          "metadata": {},
          "output_type": "execute_result"
        }
      ],
      "source": [
        "X_train.shape"
      ]
    },
    {
      "cell_type": "code",
      "execution_count": 7,
      "metadata": {
        "id": "dpMUJvhY-5C8"
      },
      "outputs": [],
      "source": [
        "y_train = np.asarray(train_labels).astype('float32')\n",
        "y_test  = np.asarray(test_labels).astype('float32')"
      ]
    },
    {
      "cell_type": "code",
      "execution_count": 8,
      "metadata": {
        "id": "wk_WWPKU-7hR"
      },
      "outputs": [],
      "source": [
        "from keras import models\n",
        "from keras import layers\n",
        "\n",
        "model = models.Sequential()\n",
        "model.add(layers.Dense(16, activation='relu', input_shape=(10000,)))\n",
        "model.add(layers.Dense(16, activation='relu'))\n",
        "model.add(layers.Dense(1, activation='sigmoid'))"
      ]
    },
    {
      "cell_type": "code",
      "execution_count": 9,
      "metadata": {
        "colab": {
          "base_uri": "https://localhost:8080/"
        },
        "id": "kITC-LcR_Fbp",
        "outputId": "13c5ae83-d7d4-463e-d2ee-122c4904abde"
      },
      "outputs": [
        {
          "name": "stderr",
          "output_type": "stream",
          "text": [
            "/usr/local/lib/python3.10/dist-packages/keras/optimizers/legacy/rmsprop.py:143: UserWarning: The `lr` argument is deprecated, use `learning_rate` instead.\n",
            "  super().__init__(name, **kwargs)\n"
          ]
        }
      ],
      "source": [
        "from keras import optimizers\n",
        "from keras import losses\n",
        "from keras import metrics\n",
        "\n",
        "model.compile(optimizer=optimizers.RMSprop(lr=0.001),loss = losses.binary_crossentropy,metrics = [metrics.binary_accuracy])"
      ]
    },
    {
      "cell_type": "code",
      "execution_count": 10,
      "metadata": {
        "id": "0iKBXyLk_NKZ"
      },
      "outputs": [],
      "source": [
        "# Input for Validation\n",
        "X_val = X_train[:10000]\n",
        "partial_X_train = X_train[10000:]\n",
        "\n",
        "# Labels for validation\n",
        "y_val = y_train[:10000]\n",
        "partial_y_train = y_train[10000:]"
      ]
    },
    {
      "cell_type": "code",
      "execution_count": 11,
      "metadata": {
        "colab": {
          "base_uri": "https://localhost:8080/"
        },
        "id": "s8mKwBpe_QYn",
        "outputId": "7c6f1dd7-3708-4e7b-8e9c-476242de07fb"
      },
      "outputs": [
        {
          "name": "stdout",
          "output_type": "stream",
          "text": [
            "Epoch 1/20\n",
            "30/30 [==============================] - 4s 96ms/step - loss: 0.5801 - binary_accuracy: 0.7857 - val_loss: 0.4867 - val_binary_accuracy: 0.8178\n",
            "Epoch 2/20\n",
            "30/30 [==============================] - 1s 40ms/step - loss: 0.3871 - binary_accuracy: 0.8913 - val_loss: 0.3540 - val_binary_accuracy: 0.8822\n",
            "Epoch 3/20\n",
            "30/30 [==============================] - 1s 41ms/step - loss: 0.2782 - binary_accuracy: 0.9133 - val_loss: 0.2939 - val_binary_accuracy: 0.8913\n",
            "Epoch 4/20\n",
            "30/30 [==============================] - 1s 40ms/step - loss: 0.2084 - binary_accuracy: 0.9300 - val_loss: 0.2760 - val_binary_accuracy: 0.8914\n",
            "Epoch 5/20\n",
            "30/30 [==============================] - 1s 39ms/step - loss: 0.1678 - binary_accuracy: 0.9461 - val_loss: 0.2760 - val_binary_accuracy: 0.8905\n",
            "Epoch 6/20\n",
            "30/30 [==============================] - 1s 40ms/step - loss: 0.1380 - binary_accuracy: 0.9585 - val_loss: 0.2857 - val_binary_accuracy: 0.8855\n",
            "Epoch 7/20\n",
            "30/30 [==============================] - 1s 38ms/step - loss: 0.1174 - binary_accuracy: 0.9644 - val_loss: 0.3038 - val_binary_accuracy: 0.8844\n",
            "Epoch 8/20\n",
            "30/30 [==============================] - 1s 40ms/step - loss: 0.0981 - binary_accuracy: 0.9705 - val_loss: 0.3373 - val_binary_accuracy: 0.8774\n",
            "Epoch 9/20\n",
            "30/30 [==============================] - 1s 39ms/step - loss: 0.0826 - binary_accuracy: 0.9789 - val_loss: 0.3215 - val_binary_accuracy: 0.8823\n",
            "Epoch 10/20\n",
            "30/30 [==============================] - 1s 49ms/step - loss: 0.0714 - binary_accuracy: 0.9813 - val_loss: 0.3419 - val_binary_accuracy: 0.8828\n",
            "Epoch 11/20\n",
            "30/30 [==============================] - 2s 64ms/step - loss: 0.0592 - binary_accuracy: 0.9855 - val_loss: 0.3628 - val_binary_accuracy: 0.8805\n",
            "Epoch 12/20\n",
            "30/30 [==============================] - 1s 44ms/step - loss: 0.0493 - binary_accuracy: 0.9881 - val_loss: 0.3900 - val_binary_accuracy: 0.8806\n",
            "Epoch 13/20\n",
            "30/30 [==============================] - 1s 37ms/step - loss: 0.0399 - binary_accuracy: 0.9912 - val_loss: 0.4324 - val_binary_accuracy: 0.8710\n",
            "Epoch 14/20\n",
            "30/30 [==============================] - 1s 40ms/step - loss: 0.0310 - binary_accuracy: 0.9945 - val_loss: 0.4727 - val_binary_accuracy: 0.8707\n",
            "Epoch 15/20\n",
            "30/30 [==============================] - 1s 39ms/step - loss: 0.0267 - binary_accuracy: 0.9952 - val_loss: 0.4784 - val_binary_accuracy: 0.8727\n",
            "Epoch 16/20\n",
            "30/30 [==============================] - 1s 39ms/step - loss: 0.0220 - binary_accuracy: 0.9962 - val_loss: 0.5095 - val_binary_accuracy: 0.8720\n",
            "Epoch 17/20\n",
            "30/30 [==============================] - 1s 38ms/step - loss: 0.0153 - binary_accuracy: 0.9979 - val_loss: 0.5568 - val_binary_accuracy: 0.8705\n",
            "Epoch 18/20\n",
            "30/30 [==============================] - 1s 40ms/step - loss: 0.0134 - binary_accuracy: 0.9981 - val_loss: 0.5843 - val_binary_accuracy: 0.8692\n",
            "Epoch 19/20\n",
            "30/30 [==============================] - 1s 40ms/step - loss: 0.0083 - binary_accuracy: 0.9996 - val_loss: 0.6263 - val_binary_accuracy: 0.8627\n",
            "Epoch 20/20\n",
            "30/30 [==============================] - 2s 53ms/step - loss: 0.0086 - binary_accuracy: 0.9991 - val_loss: 0.6787 - val_binary_accuracy: 0.8668\n"
          ]
        }
      ],
      "source": [
        "history = model.fit(partial_X_train, partial_y_train, epochs=20, batch_size=512, validation_data=(X_val, y_val))"
      ]
    },
    {
      "cell_type": "code",
      "execution_count": 12,
      "metadata": {
        "colab": {
          "base_uri": "https://localhost:8080/"
        },
        "id": "AwZivtoC_cZE",
        "outputId": "f5cf497c-8535-4836-c5bf-d7dd9a7cc942"
      },
      "outputs": [
        {
          "data": {
            "text/plain": [
              "dict_keys(['loss', 'binary_accuracy', 'val_loss', 'val_binary_accuracy'])"
            ]
          },
          "execution_count": 12,
          "metadata": {},
          "output_type": "execute_result"
        }
      ],
      "source": [
        "history_dict = history.history\n",
        "history_dict.keys()"
      ]
    },
    {
      "cell_type": "code",
      "execution_count": 13,
      "metadata": {
        "colab": {
          "base_uri": "https://localhost:8080/"
        },
        "id": "gYfnZb2C_mwR",
        "outputId": "7673eaf5-281e-4dcd-babe-c0e40676d793"
      },
      "outputs": [
        {
          "name": "stdout",
          "output_type": "stream",
          "text": [
            "Epoch 1/3\n",
            "30/30 [==============================] - 2s 73ms/step - loss: 0.0062 - binary_accuracy: 0.9997 - val_loss: 0.6923 - val_binary_accuracy: 0.8660\n",
            "Epoch 2/3\n",
            "30/30 [==============================] - 1s 41ms/step - loss: 0.0036 - binary_accuracy: 0.9998 - val_loss: 0.7613 - val_binary_accuracy: 0.8634\n",
            "Epoch 3/3\n",
            "30/30 [==============================] - 1s 39ms/step - loss: 0.0042 - binary_accuracy: 0.9996 - val_loss: 0.7715 - val_binary_accuracy: 0.8608\n"
          ]
        },
        {
          "data": {
            "text/plain": [
              "<keras.callbacks.History at 0x7f0cdecb2110>"
            ]
          },
          "execution_count": 13,
          "metadata": {},
          "output_type": "execute_result"
        }
      ],
      "source": [
        "model.fit(partial_X_train, partial_y_train, epochs=3, batch_size=512, validation_data=(X_val, y_val))"
      ]
    },
    {
      "cell_type": "code",
      "execution_count": 14,
      "metadata": {
        "colab": {
          "base_uri": "https://localhost:8080/"
        },
        "id": "iw5gp8UM_46S",
        "outputId": "cf6efcec-ad3b-47e2-9ee7-8cdcccee4e60"
      },
      "outputs": [
        {
          "name": "stdout",
          "output_type": "stream",
          "text": [
            "782/782 [==============================] - 2s 2ms/step\n"
          ]
        },
        {
          "data": {
            "text/plain": [
              "array([[0.00575977],\n",
              "       [1.        ],\n",
              "       [0.24155231],\n",
              "       ...,\n",
              "       [0.0024741 ],\n",
              "       [0.00291688],\n",
              "       [0.6468026 ]], dtype=float32)"
            ]
          },
          "execution_count": 14,
          "metadata": {},
          "output_type": "execute_result"
        }
      ],
      "source": [
        "# Making Predictions for testing data\n",
        "np.set_printoptions(suppress=True)\n",
        "result = model.predict(X_test)\n",
        "result"
      ]
    },
    {
      "cell_type": "code",
      "execution_count": 15,
      "metadata": {
        "colab": {
          "base_uri": "https://localhost:8080/"
        },
        "id": "ewmWO7sv_-n-",
        "outputId": "131f7f9f-10b5-4ec6-8742-905b08bd496c"
      },
      "outputs": [
        {
          "data": {
            "text/plain": [
              "0.15428"
            ]
          },
          "execution_count": 15,
          "metadata": {},
          "output_type": "execute_result"
        }
      ],
      "source": [
        "from sklearn.metrics import mean_absolute_error\n",
        "y_pred = np.zeros(len(result))\n",
        "for i, score in enumerate(result):\n",
        "    y_pred[i] = 1 if score > 0.5 else 0\n",
        "\n",
        "mae = mean_absolute_error(y_pred, y_test)\n",
        "mae"
      ]
    }
  ],
  "metadata": {
    "colab": {
      "provenance": []
    },
    "kernelspec": {
      "display_name": "Python 3",
      "name": "python3"
    },
    "language_info": {
      "name": "python"
    }
  },
  "nbformat": 4,
  "nbformat_minor": 0
}
